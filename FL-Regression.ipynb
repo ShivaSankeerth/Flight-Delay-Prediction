{
 "cells": [
  {
   "cell_type": "markdown",
   "metadata": {},
   "source": [
    "### Importing Libraries"
   ]
  },
  {
   "cell_type": "code",
   "execution_count": 1,
   "metadata": {},
   "outputs": [
    {
     "name": "stderr",
     "output_type": "stream",
     "text": [
      "/home/legion/.local/lib/python3.6/site-packages/sklearn/externals/six.py:31: DeprecationWarning: The module is deprecated in version 0.21 and will be removed in version 0.23 since we've dropped support for Python 2.7. Please rely on the official version of six (https://pypi.org/project/six/).\n",
      "  \"(https://pypi.org/project/six/).\", DeprecationWarning)\n"
     ]
    }
   ],
   "source": [
    "import numpy as np\n",
    "import matplotlib.pyplot as plt\n",
    "import pandas as pd\n",
    "from sklearn import ensemble\n",
    "from sklearn import datasets\n",
    "from sklearn.utils import shuffle\n",
    "from sklearn.model_selection import train_test_split\n",
    "from sklearn.linear_model import LinearRegression\n",
    "from sklearn.feature_selection import RFE\n",
    "from sklearn.linear_model import RidgeCV, LassoCV, Ridge, Lasso\n",
    "from sklearn import tree\n",
    "from sklearn.preprocessing import LabelEncoder\n",
    "from sklearn.externals.six import StringIO  \n",
    "from sklearn.ensemble import ExtraTreesClassifier, GradientBoostingClassifier\n",
    "from sklearn import metrics\n",
    "from sklearn.metrics import mean_squared_error, r2_score\n",
    "from sklearn import datasets, linear_model, metrics \n",
    "from sklearn.metrics import mean_absolute_error\n"
   ]
  },
  {
   "cell_type": "markdown",
   "metadata": {},
   "source": [
    "### Loading Dataset"
   ]
  },
  {
   "cell_type": "code",
   "execution_count": 2,
   "metadata": {},
   "outputs": [],
   "source": [
    "df = pd.read_csv(\"Testing.csv\")\n",
    "del df['Unnamed: 0']\n",
    "del df['Unnamed: 0.1']\n",
    "del df['Unnamed: 0.1.1']\n",
    "df = df.drop(['pressure','visibility','winddirDegree','OriginAirportID','DestAirportID','ArrTime','date','FlightDate','airport'],1)\n",
    "lb = LabelEncoder()\n",
    "df['Origin'] = lb.fit_transform(df['Origin'])\n",
    "df['Dest'] = lb.fit_transform(df['Dest'])\n"
   ]
  },
  {
   "cell_type": "markdown",
   "metadata": {},
   "source": [
    "### Assigning Dependent and Target Variable"
   ]
  },
  {
   "cell_type": "code",
   "execution_count": 3,
   "metadata": {},
   "outputs": [
    {
     "data": {
      "text/plain": [
       "LinearRegression(copy_X=True, fit_intercept=True, n_jobs=None, normalize=True)"
      ]
     },
     "execution_count": 3,
     "metadata": {},
     "output_type": "execute_result"
    }
   ],
   "source": [
    "X = np.array(df.drop(\"ArrDelayMinutes\", axis = 1))\n",
    "y = np.array(df[\"ArrDelayMinutes\"])\n",
    "X_train,X_test,y_train,y_test=train_test_split(X,y,test_size=0.20,random_state=0)\n",
    "reg = linear_model.LinearRegression(normalize= True )\n",
    "reg.fit(X_train, y_train)\n"
   ]
  },
  {
   "cell_type": "markdown",
   "metadata": {},
   "source": [
    "## Linear Regression"
   ]
  },
  {
   "cell_type": "markdown",
   "metadata": {},
   "source": [
    "### Prediction and Validation"
   ]
  },
  {
   "cell_type": "code",
   "execution_count": 5,
   "metadata": {},
   "outputs": [
    {
     "name": "stdout",
     "output_type": "stream",
     "text": [
      "Coefficients: \n",
      " [ 6.26874255e-01 -3.85652184e-01  8.73317699e-02 -7.47300481e-03\n",
      "  1.31035165e-03 -2.37195521e+01 -3.74723703e-03  9.73590049e-01\n",
      "  1.08491921e-03  4.54747351e-12 -9.62394836e-03  1.75732743e-01\n",
      "  2.35815361e-04  6.99729491e-02  1.11552887e-02  8.25684035e-02\n",
      "  1.18739732e-02  1.05538842e-02  1.72543954e-01 -2.38871157e-01\n",
      " -1.18102405e-02  2.35815361e-04]\n",
      "R2 score : 0.94\n",
      "Mean squared error: 308.98\n",
      "Root mean squared error: 17.58\n",
      "Mean absolute error: 12.26\n"
     ]
    }
   ],
   "source": [
    "y_pred=reg.predict(X_test)\n",
    "print('Coefficients: \\n', reg.coef_)\n",
    "print(\"R2 score : %.2f\" % r2_score(y_test,y_pred))\n",
    "print(\"Mean squared error: %.2f\" % mean_squared_error(y_test,y_pred))\n",
    "print(\"Root mean squared error: %.2f\" %mean_squared_error(y_test,y_pred)**0.5)\n",
    "print(\"Mean absolute error: %.2f\" % mean_absolute_error(y_test, y_pred))\n"
   ]
  },
  {
   "cell_type": "markdown",
   "metadata": {},
   "source": [
    "## Comparing Regressors\n"
   ]
  },
  {
   "cell_type": "code",
   "execution_count": 6,
   "metadata": {},
   "outputs": [],
   "source": [
    "from sklearn.ensemble import GradientBoostingRegressor\n",
    "from sklearn.ensemble import RandomForestRegressor\n",
    "from sklearn.linear_model import LinearRegression\n",
    "from sklearn.ensemble import VotingRegressor"
   ]
  },
  {
   "cell_type": "code",
   "execution_count": 7,
   "metadata": {},
   "outputs": [],
   "source": [
    "reg1 = GradientBoostingRegressor(random_state=1, n_estimators=10)\n",
    "reg2 = RandomForestRegressor(random_state=1, n_estimators=10)\n",
    "reg3 = LinearRegression()\n",
    "ereg = VotingRegressor(estimators=[('gb', reg1), ('rf', reg2), ('lr', reg3)])\n",
    "ereg = ereg.fit(X, y)"
   ]
  },
  {
   "cell_type": "markdown",
   "metadata": {},
   "source": [
    "## Voting Regressor"
   ]
  },
  {
   "cell_type": "code",
   "execution_count": 8,
   "metadata": {},
   "outputs": [
    {
     "name": "stdout",
     "output_type": "stream",
     "text": [
      "R2 score : 0.95\n",
      "Mean squared error: 260.40\n",
      "Root mean squared error: 16.14\n",
      "Mean absolute error: 11.18\n"
     ]
    }
   ],
   "source": [
    "y_pred=ereg.predict(X_test)\n",
    "print(\"R2 score : %.2f\" % r2_score(y_test,y_pred))\n",
    "print(\"Mean squared error: %.2f\" % mean_squared_error(y_test,y_pred))\n",
    "print(\"Root mean squared error: %.2f\" %mean_squared_error(y_test,y_pred)**0.5)\n",
    "print(\"Mean absolute error: %.2f\" % mean_absolute_error(y_test, y_pred))\n"
   ]
  },
  {
   "cell_type": "markdown",
   "metadata": {},
   "source": [
    "## Random Forest Regressor"
   ]
  },
  {
   "cell_type": "code",
   "execution_count": 9,
   "metadata": {},
   "outputs": [
    {
     "name": "stdout",
     "output_type": "stream",
     "text": [
      "R2 score : 0.99\n",
      "Mean squared error: 56.25\n",
      "Root mean squared error: 7.50\n",
      "Mean absolute error: 4.95\n"
     ]
    }
   ],
   "source": [
    "ereg = reg2.fit(X, y)\n",
    "y_pred=ereg.predict(X_test)\n",
    "print(\"R2 score : %.2f\" % r2_score(y_test,y_pred))\n",
    "print(\"Mean squared error: %.2f\" % mean_squared_error(y_test,y_pred))\n",
    "print(\"Root mean squared error: %.2f\" %mean_squared_error(y_test,y_pred)**0.5)\n",
    "print(\"Mean absolute error: %.2f\" % mean_absolute_error(y_test, y_pred))\n"
   ]
  },
  {
   "cell_type": "markdown",
   "metadata": {},
   "source": [
    "## Gradient Boost Regressor"
   ]
  },
  {
   "cell_type": "code",
   "execution_count": 10,
   "metadata": {},
   "outputs": [
    {
     "name": "stdout",
     "output_type": "stream",
     "text": [
      "R2 score : 0.82\n",
      "Mean squared error: 984.21\n",
      "Root mean squared error: 31.37\n",
      "Mean absolute error: 20.22\n"
     ]
    }
   ],
   "source": [
    "ereg = reg1.fit(X, y)\n",
    "y_pred=ereg.predict(X_test)\n",
    "print(\"R2 score : %.2f\" % r2_score(y_test,y_pred))\n",
    "print(\"Mean squared error: %.2f\" % mean_squared_error(y_test,y_pred))\n",
    "print(\"Root mean squared error: %.2f\" %mean_squared_error(y_test,y_pred)**0.5)\n",
    "print(\"Mean absolute error: %.2f\" % mean_absolute_error(y_test, y_pred))\n"
   ]
  }
 ],
 "metadata": {
  "kernelspec": {
   "display_name": "Python 3",
   "language": "python",
   "name": "python3"
  },
  "language_info": {
   "codemirror_mode": {
    "name": "ipython",
    "version": 3
   },
   "file_extension": ".py",
   "mimetype": "text/x-python",
   "name": "python",
   "nbconvert_exporter": "python",
   "pygments_lexer": "ipython3",
   "version": "3.6.8"
  }
 },
 "nbformat": 4,
 "nbformat_minor": 2
}
