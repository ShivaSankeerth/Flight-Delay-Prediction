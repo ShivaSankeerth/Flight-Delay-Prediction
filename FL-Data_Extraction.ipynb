{
 "cells": [
  {
   "cell_type": "code",
   "execution_count": 1,
   "metadata": {},
   "outputs": [],
   "source": [
    "import pandas as pd\n",
    "import glob \n"
   ]
  },
  {
   "cell_type": "markdown",
   "metadata": {},
   "source": [
    "### For Extracting Data from Weather Dataset"
   ]
  },
  {
   "cell_type": "code",
   "execution_count": 5,
   "metadata": {},
   "outputs": [],
   "source": [
    "air = [\"ATL\",\"CLT\",\"DEN\",\"DFW\",\"EWR\",\"IAH\",\"JFK\",\"LAS\",\"LAX\",\"MCO\",\"MIA\",\"ORD\",\"PHX\",\"SEA\",\"SFO\"]\n",
    "folder_name = \"weather\"\n",
    "for file in glob.iglob(folder_name + \"/*/201[67]*.json\"):\n",
    "    df = pd.read_json(file)\n",
    "    weather_data = df[\"data\"][\"weather\"][0][\"hourly\"]\n",
    "    days_in_a_month = df[\"data\"][\"weather\"]\n",
    "    nd = len(days_in_a_month)\n",
    "    wd = len(weather_data)\n",
    "    airport_name = file[26:29]\n",
    "    windspeedKmph = [df[\"data\"][\"weather\"][i][\"hourly\"][j][\"windspeedKmph\"] for i in range(nd) for j in range(wd)]\n",
    "    winddirDegree = [df[\"data\"][\"weather\"][i][\"hourly\"][j][\"winddirDegree\"] for i in range(nd) for j in range(wd)]\n",
    "    weatherCode = [df[\"data\"][\"weather\"][i][\"hourly\"][j][\"weatherCode\"] for i in range(nd) for j in range(wd)]\n",
    "    precipMM = [df[\"data\"][\"weather\"][i][\"hourly\"][j][\"precipMM\"] for i in range(nd) for j in range(wd)]\n",
    "    visibility = [df[\"data\"][\"weather\"][i][\"hourly\"][j][\"visibility\"] for i in range(nd) for j in range(wd)]\n",
    "    pressure = [df[\"data\"][\"weather\"][i][\"hourly\"][j][\"pressure\"] for i in range(nd) for j in range(wd)]\n",
    "    cloudcover = [df[\"data\"][\"weather\"][i][\"hourly\"][j][\"cloudcover\"] for i in range(nd) for j in range(wd)]\n",
    "    DewPointF = [df[\"data\"][\"weather\"][i][\"hourly\"][j][\"DewPointF\"] for i in range(nd) for j in range(wd)]\n",
    "    tempF = [df[\"data\"][\"weather\"][i][\"hourly\"][j][\"tempF\"] for i in range(nd) for j in range(wd)]\n",
    "    WindChillC = [df[\"data\"][\"weather\"][i][\"hourly\"][j][\"WindChillC\"] for i in range(nd) for j in range(wd)]\n",
    "    humidity = [df[\"data\"][\"weather\"][i][\"hourly\"][j][\"humidity\"] for i in range(nd) for j in range(wd)]\n",
    "    time = [df[\"data\"][\"weather\"][i][\"hourly\"][j][\"time\"] for i in range(nd) for j in range(wd)]\n",
    "    date = [df[\"data\"][\"weather\"][i][\"date\"] for i in range(nd) for j in range(24)]\n",
    "    airport = [airport_name for i in range(nd*wd)]\n",
    "    monthly_data = {}\n",
    "    monthly_data = pd.DataFrame()\n",
    "    monthly_data[\"windspeedKmph\"] = windspeedKmph\n",
    "    monthly_data[\"winddirDegree\"] = winddirDegree\n",
    "    monthly_data[\"weatherCode\"] = weatherCode\n",
    "    monthly_data[\"precipMM\"] = precipMM\n",
    "    monthly_data[\"visibility\"] = visibility\n",
    "    monthly_data[\"pressure\"] = pressure\n",
    "    monthly_data[\"cloudcover\"] = cloudcover\n",
    "    monthly_data[\"DewPointF\"] = DewPointF\n",
    "    monthly_data[\"tempF\"] = tempF\n",
    "    monthly_data[\"WindChillC\"] = WindChillC\n",
    "    monthly_data[\"humidity\"] = humidity\n",
    "    monthly_data[\"time\"] = time\n",
    "    monthly_data[\"date\"] = date\n",
    "    monthly_data[\"airport\"] = airport\n",
    "    fi = file[:-4] + 'csv'\n",
    "    monthly_data.to_csv(fi, index=False, encoding='utf-8')\n"
   ]
  },
  {
   "cell_type": "markdown",
   "metadata": {},
   "source": [
    "### For combining all csv files"
   ]
  },
  {
   "cell_type": "code",
   "execution_count": null,
   "metadata": {},
   "outputs": [],
   "source": [
    "path = \"ML_Flight_Project/weather\"\n",
    "combined_csv = pd.concat([pd.read_csv(f) for f in glob.iglob(path + \"/*/*.csv\")])\n",
    "combined_csv.to_csv(\"weather_data.csv\", index=False, encoding='utf-8-sig')\n"
   ]
  },
  {
   "cell_type": "markdown",
   "metadata": {},
   "source": [
    " ### For Extracting Flight Details"
   ]
  },
  {
   "cell_type": "code",
   "execution_count": 21,
   "metadata": {},
   "outputs": [
    {
     "name": "stdout",
     "output_type": "stream",
     "text": [
      "ML_Flight_Project/flight_data/2017_original/2017/On_Time_On_Time_Performance_2017_1/On_Time_On_Time_Performance_2017_1.csv\n"
     ]
    },
    {
     "name": "stderr",
     "output_type": "stream",
     "text": [
      "/home/legion/.local/lib/python3.6/site-packages/IPython/core/interactiveshell.py:3058: DtypeWarning: Columns (48,77,84) have mixed types. Specify dtype option on import or set low_memory=False.\n",
      "  interactivity=interactivity, compiler=compiler, result=result)\n"
     ]
    },
    {
     "name": "stdout",
     "output_type": "stream",
     "text": [
      "ML_Flight_Project/flight_data/2017_original/2017/On_Time_On_Time_Performance_2017_7/On_Time_On_Time_Performance_2017_7.csv\n",
      "ML_Flight_Project/flight_data/2017_original/2017/On_Time_On_Time_Performance_2017_12/On_Time_On_Time_Performance_2017_12.csv\n",
      "ML_Flight_Project/flight_data/2017_original/2017/On_Time_On_Time_Performance_2017_6/On_Time_On_Time_Performance_2017_6.csv\n",
      "ML_Flight_Project/flight_data/2017_original/2017/On_Time_On_Time_Performance_2017_4/On_Time_On_Time_Performance_2017_4.csv\n",
      "ML_Flight_Project/flight_data/2017_original/2017/On_Time_On_Time_Performance_2017_8/On_Time_On_Time_Performance_2017_8.csv\n",
      "ML_Flight_Project/flight_data/2017_original/2017/On_Time_On_Time_Performance_2017_9/On_Time_On_Time_Performance_2017_9.csv\n"
     ]
    },
    {
     "name": "stderr",
     "output_type": "stream",
     "text": [
      "/home/legion/.local/lib/python3.6/site-packages/IPython/core/interactiveshell.py:3058: DtypeWarning: Columns (77,84) have mixed types. Specify dtype option on import or set low_memory=False.\n",
      "  interactivity=interactivity, compiler=compiler, result=result)\n"
     ]
    },
    {
     "name": "stdout",
     "output_type": "stream",
     "text": [
      "ML_Flight_Project/flight_data/2017_original/2017/On_Time_On_Time_Performance_2017_11/On_Time_On_Time_Performance_2017_11.csv\n",
      "ML_Flight_Project/flight_data/2017_original/2017/On_Time_On_Time_Performance_2017_3/On_Time_On_Time_Performance_2017_3.csv\n",
      "ML_Flight_Project/flight_data/2017_original/2017/On_Time_On_Time_Performance_2017_5/On_Time_On_Time_Performance_2017_5.csv\n"
     ]
    },
    {
     "name": "stderr",
     "output_type": "stream",
     "text": [
      "/home/legion/.local/lib/python3.6/site-packages/IPython/core/interactiveshell.py:3058: DtypeWarning: Columns (48,77) have mixed types. Specify dtype option on import or set low_memory=False.\n",
      "  interactivity=interactivity, compiler=compiler, result=result)\n"
     ]
    },
    {
     "name": "stdout",
     "output_type": "stream",
     "text": [
      "ML_Flight_Project/flight_data/2017_original/2017/On_Time_On_Time_Performance_2017_2/On_Time_On_Time_Performance_2017_2.csv\n",
      "ML_Flight_Project/flight_data/2017_original/2017/On_Time_On_Time_Performance_2017_10/On_Time_On_Time_Performance_2017_10.csv\n",
      "ML_Flight_Project/flight_data/2016_original/2016/On_Time_On_Time_Performance_2016_12/On_Time_On_Time_Performance_2016_12.csv\n",
      "ML_Flight_Project/flight_data/2016_original/2016/On_Time_On_Time_Performance_2016_8/On_Time_On_Time_Performance_2016_8.csv\n",
      "ML_Flight_Project/flight_data/2016_original/2016/On_Time_On_Time_Performance_2016_2/On_Time_On_Time_Performance_2016_2.csv\n",
      "ML_Flight_Project/flight_data/2016_original/2016/On_Time_On_Time_Performance_2016_9/On_Time_On_Time_Performance_2016_9.csv\n",
      "ML_Flight_Project/flight_data/2016_original/2016/On_Time_On_Time_Performance_2016_3/On_Time_On_Time_Performance_2016_3.csv\n",
      "ML_Flight_Project/flight_data/2016_original/2016/On_Time_On_Time_Performance_2016_6/On_Time_On_Time_Performance_2016_6.csv\n",
      "ML_Flight_Project/flight_data/2016_original/2016/On_Time_On_Time_Performance_2016_10/On_Time_On_Time_Performance_2016_10.csv\n",
      "ML_Flight_Project/flight_data/2016_original/2016/On_Time_On_Time_Performance_2016_1/On_Time_On_Time_Performance_2016_1.csv\n"
     ]
    },
    {
     "name": "stderr",
     "output_type": "stream",
     "text": [
      "/home/legion/.local/lib/python3.6/site-packages/IPython/core/interactiveshell.py:3058: DtypeWarning: Columns (77) have mixed types. Specify dtype option on import or set low_memory=False.\n",
      "  interactivity=interactivity, compiler=compiler, result=result)\n"
     ]
    },
    {
     "name": "stdout",
     "output_type": "stream",
     "text": [
      "ML_Flight_Project/flight_data/2016_original/2016/On_Time_On_Time_Performance_2016_5/On_Time_On_Time_Performance_2016_5.csv\n"
     ]
    },
    {
     "name": "stderr",
     "output_type": "stream",
     "text": [
      "/home/legion/.local/lib/python3.6/site-packages/IPython/core/interactiveshell.py:3058: DtypeWarning: Columns (48,77,84,85) have mixed types. Specify dtype option on import or set low_memory=False.\n",
      "  interactivity=interactivity, compiler=compiler, result=result)\n"
     ]
    },
    {
     "name": "stdout",
     "output_type": "stream",
     "text": [
      "ML_Flight_Project/flight_data/2016_original/2016/On_Time_On_Time_Performance_2016_7/On_Time_On_Time_Performance_2016_7.csv\n",
      "ML_Flight_Project/flight_data/2016_original/2016/On_Time_On_Time_Performance_2016_11/On_Time_On_Time_Performance_2016_11.csv\n"
     ]
    },
    {
     "name": "stderr",
     "output_type": "stream",
     "text": [
      "/home/legion/.local/lib/python3.6/site-packages/IPython/core/interactiveshell.py:3058: DtypeWarning: Columns (48,69,76,77,84) have mixed types. Specify dtype option on import or set low_memory=False.\n",
      "  interactivity=interactivity, compiler=compiler, result=result)\n"
     ]
    },
    {
     "name": "stdout",
     "output_type": "stream",
     "text": [
      "ML_Flight_Project/flight_data/2016_original/2016/On_Time_On_Time_Performance_2016_4/On_Time_On_Time_Performance_2016_4.csv\n"
     ]
    }
   ],
   "source": [
    "path =\"ML_Flight_Project/flight_data\"\n",
    "csv2 = pd.DataFrame()\n",
    "for f in glob.iglob(path + \"/*/*/*/*.csv\"):\n",
    "    print(f)\n",
    "    a = pd.read_csv(f)\n",
    "    csv2  = a[['Year','Quarter','Month','DayofMonth','FlightDate','DepTime','DepDel15','CRSDepTime','DepDelayMinutes','OriginAirportID','DestAirportID','ArrTime','CRSArrTime','ArrDel15','ArrDelayMinutes','Origin','Dest']].copy()\n",
    "    csv2.to_csv('/home/legion/Desktop/ML_Flight_Project/flight_data_csv/'+f[84:], index = False ,encoding='utf-8-sig')\n",
    "    "
   ]
  },
  {
   "cell_type": "code",
   "execution_count": 23,
   "metadata": {},
   "outputs": [],
   "source": [
    "combined_csv = pd.DataFrame()\n",
    "path = \"ML_Flight_Project/flight_data_csv\"\n",
    "for f in glob.iglob(path + \"/*.csv\"):\n",
    "    df = pd.read_csv(f)\n",
    "    df = df[df[\"Origin\"].isin(air)]\n",
    "    df = df[df[\"Dest\"].isin(air)]\n",
    "    df.to_csv(f,index = False, encoding = 'utf-8-sig')\n",
    "    "
   ]
  },
  {
   "cell_type": "markdown",
   "metadata": {},
   "source": [
    "### For Combining all the flight_data csv"
   ]
  },
  {
   "cell_type": "code",
   "execution_count": 25,
   "metadata": {},
   "outputs": [],
   "source": [
    "path = \"ML_Flight_Project/flight_data_csv\"\n",
    "combined_csv = pd.concat([pd.read_csv(f) for f in glob.iglob(path + \"/*.csv\")])\n",
    "combined_csv.to_csv(\"flight_data.csv\", index = False, encoding = 'utf-8-sig')\n"
   ]
  },
  {
   "cell_type": "markdown",
   "metadata": {},
   "source": [
    "### Merging weather and flight data"
   ]
  },
  {
   "cell_type": "code",
   "execution_count": 28,
   "metadata": {},
   "outputs": [],
   "source": [
    "weather_data = pd.read_csv(\"weather_data.csv\")\n",
    "flight_data = pd.read_csv(\"flight_data.csv\")\n",
    "hour_time = flight_data[\"CRSDepTime\"]\n",
    "round_time = list()\n",
    "for i in hour_time:\n",
    "    if ( i % 100 < 30):\n",
    "        round_time.append(i - i % 100)\n",
    "    else:\n",
    "        round_time.append(((i // 100 ) + 1) * 100)\n",
    "flight_data[\"round_time\"] = round_time\n",
    "flight_data.to_csv(\"flight_data.csv\")\n",
    "merge_test = pd.merge(flight_data,weather_data, left_on = ['FlightDate', 'Origin', 'round_time'],\n",
    "                        right_on = ['date', 'airport', 'time']) \n",
    "merge_test.to_csv(\"Project.csv\")\n"
   ]
  }
 ],
 "metadata": {
  "kernelspec": {
   "display_name": "Python 3",
   "language": "python",
   "name": "python3"
  },
  "language_info": {
   "codemirror_mode": {
    "name": "ipython",
    "version": 3
   },
   "file_extension": ".py",
   "mimetype": "text/x-python",
   "name": "python",
   "nbconvert_exporter": "python",
   "pygments_lexer": "ipython3",
   "version": "3.6.8"
  }
 },
 "nbformat": 4,
 "nbformat_minor": 2
}
